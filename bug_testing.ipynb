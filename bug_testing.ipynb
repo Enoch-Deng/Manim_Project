{
 "cells": [
  {
   "cell_type": "code",
   "id": "initial_id",
   "metadata": {
    "collapsed": true,
    "ExecuteTime": {
     "end_time": "2024-11-16T03:43:25.197873Z",
     "start_time": "2024-11-16T03:43:24.711908Z"
    }
   },
   "source": [
    "import manim\n",
    "from scipy.spatial.transform import Rotation\n",
    "from setuptools.command.egg_info import manifest_maker\n",
    "\n",
    "print(\"SciPy and LAPACK are working correctly!\")"
   ],
   "outputs": [
    {
     "name": "stdout",
     "output_type": "stream",
     "text": [
      "SciPy and LAPACK are working correctly!\n"
     ]
    }
   ],
   "execution_count": 1
  },
  {
   "metadata": {
    "ExecuteTime": {
     "end_time": "2024-11-22T17:05:12.893136Z",
     "start_time": "2024-11-22T17:05:12.053533Z"
    }
   },
   "cell_type": "code",
   "source": "from manim import *",
   "id": "831d30f41b2897e1",
   "outputs": [],
   "execution_count": 1
  },
  {
   "metadata": {
    "ExecuteTime": {
     "end_time": "2024-11-22T17:05:30.549960Z",
     "start_time": "2024-11-22T17:05:30.172350Z"
    }
   },
   "cell_type": "code",
   "source": "",
   "id": "bd0d2a43b3d87d8c",
   "outputs": [
    {
     "ename": "NameError",
     "evalue": "name 'manim' is not defined",
     "output_type": "error",
     "traceback": [
      "\u001B[0;31m---------------------------------------------------------------------------\u001B[0m",
      "\u001B[0;31mNameError\u001B[0m                                 Traceback (most recent call last)",
      "Cell \u001B[0;32mIn[2], line 1\u001B[0m\n\u001B[0;32m----> 1\u001B[0m \u001B[38;5;28mdir\u001B[39m(\u001B[43mmanim\u001B[49m)\n",
      "\u001B[0;31mNameError\u001B[0m: name 'manim' is not defined"
     ]
    }
   ],
   "execution_count": 2
  },
  {
   "metadata": {},
   "cell_type": "code",
   "outputs": [],
   "execution_count": null,
   "source": "",
   "id": "dadc234aef2dcd62"
  }
 ],
 "metadata": {
  "kernelspec": {
   "display_name": "Python 3",
   "language": "python",
   "name": "python3"
  },
  "language_info": {
   "codemirror_mode": {
    "name": "ipython",
    "version": 2
   },
   "file_extension": ".py",
   "mimetype": "text/x-python",
   "name": "python",
   "nbconvert_exporter": "python",
   "pygments_lexer": "ipython2",
   "version": "2.7.6"
  }
 },
 "nbformat": 4,
 "nbformat_minor": 5
}
