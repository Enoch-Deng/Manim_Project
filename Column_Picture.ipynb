{
 "cells": [
  {
   "cell_type": "code",
   "execution_count": null,
   "id": "initial_id",
   "metadata": {
    "collapsed": true,
    "jupyter": {
     "outputs_hidden": true
    }
   },
   "outputs": [],
   "source": [
    "from manim import *\n",
    "config.media_embed = True\n",
    "config.media_width = \"50%\"\n",
    "config.verbosity = \"WARNING\""
   ]
  },
  {
   "cell_type": "code",
   "execution_count": null,
   "id": "847d31fa03764053",
   "metadata": {},
   "outputs": [],
   "source": [
    "%%manim -v WARNING --progress_bar None -qh --disable_caching RowPicture\n",
    "\n",
    "class RowPicture(Scene):\n",
    "    def construct(self):\n",
    "        # First Section\n",
    "        self.next_section(name=\"Text\", skip_animations=False)\n",
    "        title = Text(\"Column Picture\")\n",
    "        self.play(Write(title))\n",
    "        self.play(\n",
    "            title.animate.to_edge(UP + LEFT)\n",
    "        )\n",
    "        # Second Section\n",
    "        self.next_section(name=\"Matrix\", skip_animations=False)\n",
    "        matrix2_2 = MathTex(r\"\\begin{bmatrix} 1 & 0 \\\\ 1 & 2 \\end{bmatrix}\") # use r to pass a raw string\n",
    "        self.play(Write(matrix2_2))\n",
    "        self.play(matrix2_2.animate.scale(2).shift(LEFT * 3))\n",
    "\n",
    "        # Third Section\n",
    "        self.next_section(name=\"Diagram\", skip_animations=False)\n"
   ]
  }
 ],
 "metadata": {
  "kernelspec": {
   "display_name": "Python 3 (ipykernel)",
   "language": "python",
   "name": "python3"
  },
  "language_info": {
   "codemirror_mode": {
    "name": "ipython",
    "version": 3
   },
   "file_extension": ".py",
   "mimetype": "text/x-python",
   "name": "python",
   "nbconvert_exporter": "python",
   "pygments_lexer": "ipython3",
   "version": "3.9.18"
  }
 },
 "nbformat": 4,
 "nbformat_minor": 5
}
